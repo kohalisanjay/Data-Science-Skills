{
 "cells": [
  {
   "cell_type": "code",
   "execution_count": 1,
   "id": "c259e421",
   "metadata": {},
   "outputs": [
    {
     "data": {
      "text/plain": [
       "123"
      ]
     },
     "execution_count": 1,
     "metadata": {},
     "output_type": "execute_result"
    }
   ],
   "source": [
    "int(123)"
   ]
  },
  {
   "cell_type": "code",
   "execution_count": 2,
   "id": "5ea23dd2",
   "metadata": {},
   "outputs": [
    {
     "ename": "ValueError",
     "evalue": "invalid literal for int() with base 10: 'abcd'",
     "output_type": "error",
     "traceback": [
      "\u001b[1;31m---------------------------------------------------------------------------\u001b[0m",
      "\u001b[1;31mValueError\u001b[0m                                Traceback (most recent call last)",
      "\u001b[1;32m<ipython-input-2-b6487b2c3886>\u001b[0m in \u001b[0;36m<module>\u001b[1;34m\u001b[0m\n\u001b[1;32m----> 1\u001b[1;33m \u001b[0mint\u001b[0m\u001b[1;33m(\u001b[0m\u001b[1;34m'abcd'\u001b[0m\u001b[1;33m)\u001b[0m\u001b[1;33m\u001b[0m\u001b[1;33m\u001b[0m\u001b[0m\n\u001b[0m",
      "\u001b[1;31mValueError\u001b[0m: invalid literal for int() with base 10: 'abcd'"
     ]
    }
   ],
   "source": [
    "int('abcd')"
   ]
  },
  {
   "cell_type": "code",
   "execution_count": 4,
   "id": "1e523e35",
   "metadata": {},
   "outputs": [
    {
     "data": {
      "text/plain": [
       "0"
      ]
     },
     "execution_count": 4,
     "metadata": {},
     "output_type": "execute_result"
    }
   ],
   "source": [
    "#No argument it will give zero\n",
    "int()"
   ]
  },
  {
   "cell_type": "code",
   "execution_count": 5,
   "id": "d9bf8cf3",
   "metadata": {},
   "outputs": [
    {
     "name": "stdout",
     "output_type": "stream",
     "text": [
      "Hello world\n"
     ]
    }
   ],
   "source": [
    "#Shift+Tab >> It will give the full detail of selected cell\n",
    "print('Hello world')"
   ]
  },
  {
   "cell_type": "code",
   "execution_count": 10,
   "id": "98837064",
   "metadata": {},
   "outputs": [
    {
     "name": "stdout",
     "output_type": "stream",
     "text": [
      "My Age is: 26\n"
     ]
    }
   ],
   "source": [
    "Age=26\n",
    "print('My Age is:',Age)"
   ]
  },
  {
   "cell_type": "code",
   "execution_count": 11,
   "id": "1a7d4d89",
   "metadata": {},
   "outputs": [
    {
     "name": "stdout",
     "output_type": "stream",
     "text": [
      "My Age is: {26}\n"
     ]
    }
   ],
   "source": [
    "Age=26\n",
    "print('My Age is:',{Age})"
   ]
  },
  {
   "cell_type": "code",
   "execution_count": 14,
   "id": "b9b322ac",
   "metadata": {},
   "outputs": [
    {
     "name": "stdout",
     "output_type": "stream",
     "text": [
      "My Age is:26\n"
     ]
    }
   ],
   "source": [
    "# here f string is basically for format\n",
    "Age=26\n",
    "print(f'My Age is:{Age}')"
   ]
  },
  {
   "cell_type": "code",
   "execution_count": 18,
   "id": "b177c398",
   "metadata": {},
   "outputs": [
    {
     "name": "stdout",
     "output_type": "stream",
     "text": [
      "My name is Sanjay and my age is 26\n"
     ]
    }
   ],
   "source": [
    "# Dot format>> .format() >> it will fill up the empty spaces\n",
    "name='Sanjay'\n",
    "age=26\n",
    "print('My name is {} and my age is {}'.format(name,age))"
   ]
  },
  {
   "cell_type": "code",
   "execution_count": 19,
   "id": "03531b12",
   "metadata": {},
   "outputs": [
    {
     "name": "stdout",
     "output_type": "stream",
     "text": [
      "My name is 31 and age is Kiran\n"
     ]
    }
   ],
   "source": [
    "name='Kiran'\n",
    "age=31\n",
    "print('My name is {} and age is {}'.format(age,name))"
   ]
  },
  {
   "cell_type": "code",
   "execution_count": 21,
   "id": "fbef7e1a",
   "metadata": {},
   "outputs": [
    {
     "name": "stdout",
     "output_type": "stream",
     "text": [
      "My name is Kiran and my age is 31\n"
     ]
    }
   ],
   "source": [
    "#Placeholder >> wherever be the empty space it will give output exactly at the mentioned cell\n",
    "name= 'Kiran'\n",
    "age=31\n",
    "print('My name is {firstname} and my age is {firstage}'.format(firstname=name,firstage=age))"
   ]
  },
  {
   "cell_type": "code",
   "execution_count": 24,
   "id": "933f09bf",
   "metadata": {},
   "outputs": [
    {
     "name": "stdout",
     "output_type": "stream",
     "text": [
      "My name is Sanjay and my age is 26\n"
     ]
    }
   ],
   "source": [
    "# placeholder >> it will not affecting the order in which it is placed\n",
    "name= 'Sanjay'\n",
    "age=26\n",
    "print('My name is {firstname} and my age is {firstage}'.format(firstage=age,firstname=name))"
   ]
  },
  {
   "cell_type": "code",
   "execution_count": 25,
   "id": "d372699c",
   "metadata": {},
   "outputs": [
    {
     "name": "stdout",
     "output_type": "stream",
     "text": [
      "My age is 26 I have completed: my degree of BSc with the name of Sanjay kumar\n"
     ]
    }
   ],
   "source": [
    "name='Sanjay kumar'\n",
    "age=26\n",
    "degree='BSc'\n",
    "print('My age is {} I have completed: my degree of {} with the name of {}'.format(age,degree,name))"
   ]
  },
  {
   "cell_type": "code",
   "execution_count": 26,
   "id": "81b5dd35",
   "metadata": {},
   "outputs": [
    {
     "name": "stdout",
     "output_type": "stream",
     "text": [
      "My age is 31 I have completed: my degree of BA Psychology with the name of Kiran Kumari\n"
     ]
    }
   ],
   "source": [
    "name='Kiran Kumari'\n",
    "age=31\n",
    "degree='BA Psychology'\n",
    "print('My age is {firstage} I have completed: my degree of {firstdegree} with the name of {firstname}'.format(firstname=name,firstage=age,firstdegree=degree))"
   ]
  },
  {
   "cell_type": "code",
   "execution_count": 28,
   "id": "b7357e50",
   "metadata": {},
   "outputs": [
    {
     "name": "stdout",
     "output_type": "stream",
     "text": [
      "My age is 26 I have completed: my degree of BSc with the name of Sanjay Kumar\n"
     ]
    }
   ],
   "source": [
    "name='Sanjay Kumar'\n",
    "age=26\n",
    "degree='BSc'\n",
    "print(f'My age is {age} I have completed: my degree of {degree} with the name of {name}')"
   ]
  },
  {
   "cell_type": "markdown",
   "id": "29b93811",
   "metadata": {},
   "source": [
    "## Control flow\n",
    "## Decision Making Statements\n",
    "\n",
    "### if\n",
    "### if else\n",
    "### if elif else\n",
    "### Nested if\n",
    "### Single Statement Suites"
   ]
  },
  {
   "cell_type": "code",
   "execution_count": 31,
   "id": "7e7729c1",
   "metadata": {},
   "outputs": [
    {
     "name": "stdout",
     "output_type": "stream",
     "text": [
      "you are eligible to vote\n"
     ]
    }
   ],
   "source": [
    "#if statements - three conditions (==,>=,<=)\n",
    "age=18\n",
    "if age<=18:\n",
    "    print('you are eligible to vote')\n",
    "#if statement is true"
   ]
  },
  {
   "cell_type": "code",
   "execution_count": 32,
   "id": "a7c1db8c",
   "metadata": {},
   "outputs": [],
   "source": [
    "age=18\n",
    "if age<18:\n",
    "    print('you are not eligible to vote')\n",
    "#if statement will not execute because it is false"
   ]
  },
  {
   "cell_type": "code",
   "execution_count": 33,
   "id": "3f400ca3",
   "metadata": {},
   "outputs": [
    {
     "name": "stdout",
     "output_type": "stream",
     "text": [
      "What is your nameSANJAY KUMAR\n"
     ]
    }
   ],
   "source": [
    "#input\n",
    "name=input('What is your name')"
   ]
  },
  {
   "cell_type": "code",
   "execution_count": 34,
   "id": "e51a80f9",
   "metadata": {},
   "outputs": [
    {
     "data": {
      "text/plain": [
       "'SANJAY KUMAR'"
      ]
     },
     "execution_count": 34,
     "metadata": {},
     "output_type": "execute_result"
    }
   ],
   "source": [
    "name"
   ]
  },
  {
   "cell_type": "code",
   "execution_count": 37,
   "id": "a6b3fc1c",
   "metadata": {},
   "outputs": [
    {
     "name": "stdout",
     "output_type": "stream",
     "text": [
      "what is your favourite number7\n"
     ]
    }
   ],
   "source": [
    "#Type Casting >> I am converting string into integer\n",
    "#a=input('what help I can do')\n",
    "#type(a) is a string\n",
    "a=int(input('what is your favourite number'))"
   ]
  },
  {
   "cell_type": "code",
   "execution_count": 38,
   "id": "30c85fcf",
   "metadata": {},
   "outputs": [
    {
     "data": {
      "text/plain": [
       "int"
      ]
     },
     "execution_count": 38,
     "metadata": {},
     "output_type": "execute_result"
    }
   ],
   "source": [
    "type(a)"
   ]
  },
  {
   "cell_type": "code",
   "execution_count": 40,
   "id": "1238b855",
   "metadata": {},
   "outputs": [
    {
     "name": "stdout",
     "output_type": "stream",
     "text": [
      "what is your age21\n",
      "You are a young blood\n"
     ]
    }
   ],
   "source": [
    "#Task\n",
    "#Take a input of age\n",
    "#check whether age>=18 and age<=45\n",
    "#Display  a message you are young blood\n",
    "age=int(input('what is your age'))\n",
    "if age>=18 and age<=45:\n",
    "    print('You are a young blood')"
   ]
  },
  {
   "cell_type": "code",
   "execution_count": 41,
   "id": "c618c2ba",
   "metadata": {},
   "outputs": [
    {
     "name": "stdout",
     "output_type": "stream",
     "text": [
      "what is your age17\n",
      "You are a man\n"
     ]
    }
   ],
   "source": [
    "#if else statement\n",
    "age=int(input('what is your age'))\n",
    "if age>=18 and age<=45:\n",
    "    print('You are a young blood')\n",
    "else:\n",
    "    print('You are a man')"
   ]
  },
  {
   "cell_type": "code",
   "execution_count": 45,
   "id": "700c2604",
   "metadata": {},
   "outputs": [
    {
     "name": "stdout",
     "output_type": "stream",
     "text": [
      "product price4000\n",
      "the price of the product is 3200.0\n"
     ]
    }
   ],
   "source": [
    "#mall- input the product price\n",
    "#product>1000Rs 20%off\n",
    "#print the product price after removing the discount\n",
    "#product<=1000Rs 30%off\n",
    "#print the product price after removing the discount\n",
    "_product=int(input('product price'))\n",
    "if _product>1000:\n",
    "    print('the price of the product is {}'.format(_product*0.8))\n",
    "else:\n",
    "    print('the price of the product is {}'.format(_product*0.7))\n",
    "    \n"
   ]
  },
  {
   "cell_type": "code",
   "execution_count": 46,
   "id": "0a4c4880",
   "metadata": {},
   "outputs": [
    {
     "name": "stdout",
     "output_type": "stream",
     "text": [
      "product price1500\n",
      "the price of the product is 1200.0\n"
     ]
    }
   ],
   "source": [
    "#mall- input the product price\n",
    "#product>1000Rs 20%off\n",
    "#print the product price after removing the discount\n",
    "#product<=1000Rs 30%off\n",
    "#print the product price after removing the discount\n",
    "_product=int(input('product price'))\n",
    "if _product>1000:\n",
    "    print('the price of the product is {}'.format(_product*0.8))\n",
    "else:\n",
    "    print('the price of the product is {}'.format(_product*0.7))\n",
    "    "
   ]
  },
  {
   "cell_type": "code",
   "execution_count": 48,
   "id": "9967a3b2",
   "metadata": {},
   "outputs": [
    {
     "data": {
      "text/plain": [
       "300"
      ]
     },
     "execution_count": 48,
     "metadata": {},
     "output_type": "execute_result"
    }
   ],
   "source": [
    "int((20/100)*1500)"
   ]
  },
  {
   "cell_type": "code",
   "execution_count": 51,
   "id": "dee33170",
   "metadata": {},
   "outputs": [
    {
     "data": {
      "text/plain": [
       "3.0"
      ]
     },
     "execution_count": 51,
     "metadata": {},
     "output_type": "execute_result"
    }
   ],
   "source": [
    "(30/100)*10"
   ]
  },
  {
   "cell_type": "code",
   "execution_count": 53,
   "id": "3cbaae90",
   "metadata": {},
   "outputs": [
    {
     "name": "stdout",
     "output_type": "stream",
     "text": [
      "product price2000\n",
      "the price of the product is 1600.0\n"
     ]
    }
   ],
   "source": [
    "_product=int(input('product price'))\n",
    "if _product>1000:\n",
    "    print(f'the price of the product is {_product*0.8}')\n",
    "else:\n",
    "    print(f'the price of the product is {_product*0.7}')"
   ]
  },
  {
   "cell_type": "markdown",
   "id": "e1777db1",
   "metadata": {},
   "source": []
  },
  {
   "cell_type": "code",
   "execution_count": 55,
   "id": "5c8653db",
   "metadata": {},
   "outputs": [
    {
     "data": {
      "text/plain": [
       "400.0"
      ]
     },
     "execution_count": 55,
     "metadata": {},
     "output_type": "execute_result"
    }
   ],
   "source": [
    "(20/100)*2000"
   ]
  },
  {
   "cell_type": "code",
   "execution_count": 59,
   "id": "ea84d6f0",
   "metadata": {},
   "outputs": [
    {
     "name": "stdout",
     "output_type": "stream",
     "text": [
      "price of product5000\n",
      "the price of the product is 4000.0\n"
     ]
    }
   ],
   "source": [
    "#mall- input the product price\n",
    "#product>3000Rs 20%off\n",
    "#print the product price after removing the discount\n",
    "#product>=2000Rs and <=3000Rs 30%off\n",
    "#print the product price after removing the discount\n",
    "#product<=1000Rs and <=2000Rs 40%off\n",
    "#print the product price after removing the discount\n",
    "price=int(input('price of product'))\n",
    "if price>3000:\n",
    "    print('the price of the product is {}'.format(price*0.8))\n",
    "elif price>=2000 and price<=3000:\n",
    "    print('the price of the product is {}'.format(price*0.7))\n",
    "else:\n",
    "    print('the price of the product is {}'.format(price*0.6))\n"
   ]
  },
  {
   "cell_type": "code",
   "execution_count": 61,
   "id": "507909ea",
   "metadata": {},
   "outputs": [
    {
     "name": "stdout",
     "output_type": "stream",
     "text": [
      "price of product55\n",
      "Lets drink tea\n"
     ]
    }
   ],
   "source": [
    "#mall- input the product price\n",
    "#product>3000Rs 20%off\n",
    "#print the product price after removing the discount\n",
    "#product>=2000Rs and <=3000Rs 30%off\n",
    "#print the product price after removing the discount\n",
    "#product>=100Rs and <=2000Rs 40%off\n",
    "#print the product price after removing the discount\n",
    "price=int(input('price of product'))\n",
    "if price>3000:\n",
    "    print('the price of the product is {}'.format(price*0.8))\n",
    "elif price>=2000 and price<=3000:\n",
    "    print('the price of the product is {}'.format(price*0.7))\n",
    "elif price>=100 and price<=2000:\n",
    "    print('the price of the product is {}'.format(price*0.6))\n",
    "else:\n",
    "    print('Lets drink tea')\n"
   ]
  },
  {
   "cell_type": "markdown",
   "id": "042e43d5",
   "metadata": {},
   "source": [
    "# Nested if>>\n",
    "## if inside if"
   ]
  },
  {
   "cell_type": "code",
   "execution_count": 63,
   "id": "531a0754",
   "metadata": {},
   "outputs": [
    {
     "name": "stdout",
     "output_type": "stream",
     "text": [
      "price of product2999\n",
      "the price of the product is 2099.2999999999997\n",
      "Congratulations you are eligible for gift\n"
     ]
    }
   ],
   "source": [
    "#mall- input the product price\n",
    "#product>3000Rs 20%off\n",
    "#print the product price after removing the discount\n",
    "#product>=2000Rs and <=3000Rs 30%off\n",
    "#print the product price after removing the discount\n",
    "#price==2999\n",
    "#product>=100Rs and <=2000Rs 40%off\n",
    "#print the product price after removing the discount\n",
    "price=int(input('price of product'))\n",
    "if price>3000:\n",
    "    print('the price of the product is {}'.format(price*0.8))\n",
    "elif price>=2000 and price<=3000:\n",
    "    print('the price of the product is {}'.format(price*0.7))\n",
    "if price==2999:\n",
    "    print('Congratulations you are eligible for gift')\n",
    "elif price>=100 and price<=2000:\n",
    "    print('the price of the product is {}'.format(price*0.6))\n",
    "else:\n",
    "    print('Lets drink tea')"
   ]
  },
  {
   "cell_type": "code",
   "execution_count": 64,
   "id": "1f4ccc44",
   "metadata": {},
   "outputs": [
    {
     "data": {
      "text/plain": [
       "True"
      ]
     },
     "execution_count": 64,
     "metadata": {},
     "output_type": "execute_result"
    }
   ],
   "source": [
    "#Comparision operator\n",
    "True==True"
   ]
  },
  {
   "cell_type": "code",
   "execution_count": 66,
   "id": "dd2044f0",
   "metadata": {},
   "outputs": [
    {
     "name": "stdout",
     "output_type": "stream",
     "text": [
      "price of product4000\n",
      "Congratulations you get a Goa trip\n",
      "the price of the product is 3200.0\n",
      "Lets drink tea\n"
     ]
    }
   ],
   "source": [
    "#mall- input the product price\n",
    "#product>3000Rs 20%off\n",
    "#print the product price after removing the discount\n",
    "#product>=2000Rs and <=3000Rs 30%off\n",
    "#print the product price after removing the discount\n",
    "#price==2999\n",
    "#product>=100Rs and <=2000Rs 40%off\n",
    "#print the product price after removing the discount\n",
    "price=int(input('price of product'))\n",
    "if price>3000:\n",
    "    if price==4000:\n",
    "        print('Congratulations you get a Goa trip')\n",
    "    print('the price of the product is {}'.format(price*0.8))\n",
    "elif price>=2000 and price<=3000:\n",
    "    print('the price of the product is {}'.format(price*0.7))\n",
    "if price==2999:\n",
    "    print('Congratulations you are eligible for gift')\n",
    "elif price>=100 and price<=2000:\n",
    "    print('the price of the product is {}'.format(price*0.6))\n",
    "else:\n",
    "    print('Lets drink tea')"
   ]
  },
  {
   "cell_type": "code",
   "execution_count": 67,
   "id": "46dd2b64",
   "metadata": {},
   "outputs": [
    {
     "name": "stdout",
     "output_type": "stream",
     "text": [
      "Enter the number1000\n",
      "go home\n"
     ]
    }
   ],
   "source": [
    "#Single Statement Suites\n",
    "val=int(input('Enter the number'))\n",
    "if val<=999:print('Value is less than equal to 999')\n",
    "else:\n",
    "    print('go home')"
   ]
  },
  {
   "cell_type": "code",
   "execution_count": 68,
   "id": "79c08428",
   "metadata": {},
   "outputs": [
    {
     "name": "stdout",
     "output_type": "stream",
     "text": [
      "Enter the number786\n",
      "Value is less than equal to 999\n"
     ]
    }
   ],
   "source": [
    "val=int(input('Enter the number'))\n",
    "if val<=999:print('Value is less than equal to 999')\n",
    "else:\n",
    "    print('go home')"
   ]
  },
  {
   "cell_type": "code",
   "execution_count": null,
   "id": "9d6a0c3f",
   "metadata": {},
   "outputs": [],
   "source": []
  }
 ],
 "metadata": {
  "kernelspec": {
   "display_name": "Python 3",
   "language": "python",
   "name": "python3"
  },
  "language_info": {
   "codemirror_mode": {
    "name": "ipython",
    "version": 3
   },
   "file_extension": ".py",
   "mimetype": "text/x-python",
   "name": "python",
   "nbconvert_exporter": "python",
   "pygments_lexer": "ipython3",
   "version": "3.8.8"
  }
 },
 "nbformat": 4,
 "nbformat_minor": 5
}
