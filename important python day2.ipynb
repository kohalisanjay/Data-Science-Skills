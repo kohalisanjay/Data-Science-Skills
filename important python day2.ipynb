{
 "cells": [
  {
   "cell_type": "code",
   "execution_count": 1,
   "id": "f9cef1ab",
   "metadata": {},
   "outputs": [
    {
     "data": {
      "text/plain": [
       "123"
      ]
     },
     "execution_count": 1,
     "metadata": {},
     "output_type": "execute_result"
    }
   ],
   "source": [
    "int(123)"
   ]
  },
  {
   "cell_type": "code",
   "execution_count": 2,
   "id": "f362450d",
   "metadata": {},
   "outputs": [
    {
     "ename": "ValueError",
     "evalue": "invalid literal for int() with base 10: 'abcd'",
     "output_type": "error",
     "traceback": [
      "\u001b[1;31m---------------------------------------------------------------------------\u001b[0m",
      "\u001b[1;31mValueError\u001b[0m                                Traceback (most recent call last)",
      "\u001b[1;32m<ipython-input-2-b6487b2c3886>\u001b[0m in \u001b[0;36m<module>\u001b[1;34m\u001b[0m\n\u001b[1;32m----> 1\u001b[1;33m \u001b[0mint\u001b[0m\u001b[1;33m(\u001b[0m\u001b[1;34m'abcd'\u001b[0m\u001b[1;33m)\u001b[0m\u001b[1;33m\u001b[0m\u001b[1;33m\u001b[0m\u001b[0m\n\u001b[0m",
      "\u001b[1;31mValueError\u001b[0m: invalid literal for int() with base 10: 'abcd'"
     ]
    }
   ],
   "source": [
    "int('abcd')"
   ]
  },
  {
   "cell_type": "code",
   "execution_count": 4,
   "id": "73269c04",
   "metadata": {},
   "outputs": [
    {
     "data": {
      "text/plain": [
       "0"
      ]
     },
     "execution_count": 4,
     "metadata": {},
     "output_type": "execute_result"
    }
   ],
   "source": [
    "#No argument it will give zero\n",
    "int()"
   ]
  },
  {
   "cell_type": "code",
   "execution_count": 5,
   "id": "f1024c41",
   "metadata": {},
   "outputs": [
    {
     "name": "stdout",
     "output_type": "stream",
     "text": [
      "Hello world\n"
     ]
    }
   ],
   "source": [
    "#Shift+Tab >> It will give the full detail of selected cell\n",
    "print('Hello world')"
   ]
  },
  {
   "cell_type": "code",
   "execution_count": 10,
   "id": "2ca68c80",
   "metadata": {},
   "outputs": [
    {
     "name": "stdout",
     "output_type": "stream",
     "text": [
      "My Age is: 26\n"
     ]
    }
   ],
   "source": [
    "Age=26\n",
    "print('My Age is:',Age)"
   ]
  },
  {
   "cell_type": "code",
   "execution_count": 11,
   "id": "5822254a",
   "metadata": {},
   "outputs": [
    {
     "name": "stdout",
     "output_type": "stream",
     "text": [
      "My Age is: {26}\n"
     ]
    }
   ],
   "source": [
    "Age=26\n",
    "print('My Age is:',{Age})"
   ]
  },
  {
   "cell_type": "code",
   "execution_count": 14,
   "id": "13bbbf5c",
   "metadata": {},
   "outputs": [
    {
     "name": "stdout",
     "output_type": "stream",
     "text": [
      "My Age is:26\n"
     ]
    }
   ],
   "source": [
    "# here f string is basically for format\n",
    "Age=26\n",
    "print(f'My Age is:{Age}')"
   ]
  },
  {
   "cell_type": "code",
   "execution_count": 18,
   "id": "95c032ce",
   "metadata": {},
   "outputs": [
    {
     "name": "stdout",
     "output_type": "stream",
     "text": [
      "My name is Sanjay and my age is 26\n"
     ]
    }
   ],
   "source": [
    "# Dot format>> .format() >> it will fill up the empty spaces\n",
    "name='Sanjay'\n",
    "age=26\n",
    "print('My name is {} and my age is {}'.format(name,age))"
   ]
  },
  {
   "cell_type": "code",
   "execution_count": 19,
   "id": "50f6d878",
   "metadata": {},
   "outputs": [
    {
     "name": "stdout",
     "output_type": "stream",
     "text": [
      "My name is 31 and age is Kiran\n"
     ]
    }
   ],
   "source": [
    "name='Kiran'\n",
    "age=31\n",
    "print('My name is {} and age is {}'.format(age,name))"
   ]
  },
  {
   "cell_type": "code",
   "execution_count": 21,
   "id": "be8ec60f",
   "metadata": {},
   "outputs": [
    {
     "name": "stdout",
     "output_type": "stream",
     "text": [
      "My name is Kiran and my age is 31\n"
     ]
    }
   ],
   "source": [
    "#Placeholder >> wherever be the empty space it will give output exactly at the mentioned cell\n",
    "name= 'Kiran'\n",
    "age=31\n",
    "print('My name is {firstname} and my age is {firstage}'.format(firstname=name,firstage=age))"
   ]
  },
  {
   "cell_type": "code",
   "execution_count": 24,
   "id": "92f200b3",
   "metadata": {},
   "outputs": [
    {
     "name": "stdout",
     "output_type": "stream",
     "text": [
      "My name is Sanjay and my age is 26\n"
     ]
    }
   ],
   "source": [
    "# placeholder >> it will not affecting the order in which it is placed\n",
    "name= 'Sanjay'\n",
    "age=26\n",
    "print('My name is {firstname} and my age is {firstage}'.format(firstage=age,firstname=name))"
   ]
  },
  {
   "cell_type": "code",
   "execution_count": 25,
   "id": "cca64f60",
   "metadata": {},
   "outputs": [
    {
     "name": "stdout",
     "output_type": "stream",
     "text": [
      "My age is 26 I have completed: my degree of BSc with the name of Sanjay kumar\n"
     ]
    }
   ],
   "source": [
    "name='Sanjay kumar'\n",
    "age=26\n",
    "degree='BSc'\n",
    "print('My age is {} I have completed: my degree of {} with the name of {}'.format(age,degree,name))"
   ]
  },
  {
   "cell_type": "code",
   "execution_count": 26,
   "id": "ad88d5ea",
   "metadata": {},
   "outputs": [
    {
     "name": "stdout",
     "output_type": "stream",
     "text": [
      "My age is 31 I have completed: my degree of BA Psychology with the name of Kiran Kumari\n"
     ]
    }
   ],
   "source": [
    "name='Kiran Kumari'\n",
    "age=31\n",
    "degree='BA Psychology'\n",
    "print('My age is {firstage} I have completed: my degree of {firstdegree} with the name of {firstname}'.format(firstname=name,firstage=age,firstdegree=degree))"
   ]
  },
  {
   "cell_type": "code",
   "execution_count": 28,
   "id": "06cb98ca",
   "metadata": {},
   "outputs": [
    {
     "name": "stdout",
     "output_type": "stream",
     "text": [
      "My age is 26 I have completed: my degree of BSc with the name of Sanjay Kumar\n"
     ]
    }
   ],
   "source": [
    "name='Sanjay Kumar'\n",
    "age=26\n",
    "degree='BSc'\n",
    "print(f'My age is {age} I have completed: my degree of {degree} with the name of {name}')"
   ]
  },
  {
   "cell_type": "markdown",
   "id": "cf1e1bd4",
   "metadata": {},
   "source": [
    "## Control flow\n",
    "## Decision Making Statements\n",
    "\n",
    "### if\n",
    "### if else\n",
    "### if elif else\n",
    "### Nested if\n",
    "### Single Statement Suites"
   ]
  },
  {
   "cell_type": "code",
   "execution_count": 31,
   "id": "3c7bd6d2",
   "metadata": {},
   "outputs": [
    {
     "name": "stdout",
     "output_type": "stream",
     "text": [
      "you are eligible to vote\n"
     ]
    }
   ],
   "source": [
    "#if statements - three conditions (==,>=,<=)\n",
    "age=18\n",
    "if age<=18:\n",
    "    print('you are eligible to vote')\n",
    "#if statement is true"
   ]
  },
  {
   "cell_type": "code",
   "execution_count": 32,
   "id": "a6a7b255",
   "metadata": {},
   "outputs": [],
   "source": [
    "age=18\n",
    "if age<18:\n",
    "    print('you are not eligible to vote')\n",
    "#if statement will not execute because it is false"
   ]
  },
  {
   "cell_type": "code",
   "execution_count": 33,
   "id": "4bb38dd3",
   "metadata": {},
   "outputs": [
    {
     "name": "stdout",
     "output_type": "stream",
     "text": [
      "What is your nameSANJAY KUMAR\n"
     ]
    }
   ],
   "source": [
    "#input\n",
    "name=input('What is your name')"
   ]
  },
  {
   "cell_type": "code",
   "execution_count": 34,
   "id": "81d3d0b7",
   "metadata": {},
   "outputs": [
    {
     "data": {
      "text/plain": [
       "'SANJAY KUMAR'"
      ]
     },
     "execution_count": 34,
     "metadata": {},
     "output_type": "execute_result"
    }
   ],
   "source": [
    "name"
   ]
  },
  {
   "cell_type": "code",
   "execution_count": 37,
   "id": "a484d3b4",
   "metadata": {},
   "outputs": [
    {
     "name": "stdout",
     "output_type": "stream",
     "text": [
      "what is your favourite number7\n"
     ]
    }
   ],
   "source": [
    "#Type Casting >> I am converting string into integer\n",
    "#a=input('what help I can do')\n",
    "#type(a) is a string\n",
    "a=int(input('what is your favourite number'))"
   ]
  },
  {
   "cell_type": "code",
   "execution_count": 38,
   "id": "272998af",
   "metadata": {},
   "outputs": [
    {
     "data": {
      "text/plain": [
       "int"
      ]
     },
     "execution_count": 38,
     "metadata": {},
     "output_type": "execute_result"
    }
   ],
   "source": [
    "type(a)"
   ]
  },
  {
   "cell_type": "code",
   "execution_count": 40,
   "id": "f808d063",
   "metadata": {},
   "outputs": [
    {
     "name": "stdout",
     "output_type": "stream",
     "text": [
      "what is your age21\n",
      "You are a young blood\n"
     ]
    }
   ],
   "source": [
    "#Task\n",
    "#Take a input of age\n",
    "#check whether age>=18 and age<=45\n",
    "#Display  a message you are young blood\n",
    "age=int(input('what is your age'))\n",
    "if age>=18 and age<=45:\n",
    "    print('You are a young blood')"
   ]
  },
  {
   "cell_type": "code",
   "execution_count": 41,
   "id": "85988f21",
   "metadata": {},
   "outputs": [
    {
     "name": "stdout",
     "output_type": "stream",
     "text": [
      "what is your age17\n",
      "You are a man\n"
     ]
    }
   ],
   "source": [
    "#if else statement\n",
    "age=int(input('what is your age'))\n",
    "if age>=18 and age<=45:\n",
    "    print('You are a young blood')\n",
    "else:\n",
    "    print('You are a man')"
   ]
  },
  {
   "cell_type": "code",
   "execution_count": 45,
   "id": "804cd6dc",
   "metadata": {},
   "outputs": [
    {
     "name": "stdout",
     "output_type": "stream",
     "text": [
      "product price4000\n",
      "the price of the product is 3200.0\n"
     ]
    }
   ],
   "source": [
    "#mall- input the product price\n",
    "#product>1000Rs 20%off\n",
    "#print the product price after removing the discount\n",
    "#product<=1000Rs 30%off\n",
    "#print the product price after removing the discount\n",
    "_product=int(input('product price'))\n",
    "if _product>1000:\n",
    "    print('the price of the product is {}'.format(_product*0.8))\n",
    "else:\n",
    "    print('the price of the product is {}'.format(_product*0.7))\n",
    "    \n"
   ]
  },
  {
   "cell_type": "code",
   "execution_count": 46,
   "id": "0a1d37ef",
   "metadata": {},
   "outputs": [
    {
     "name": "stdout",
     "output_type": "stream",
     "text": [
      "product price1500\n",
      "the price of the product is 1200.0\n"
     ]
    }
   ],
   "source": [
    "#mall- input the product price\n",
    "#product>1000Rs 20%off\n",
    "#print the product price after removing the discount\n",
    "#product<=1000Rs 30%off\n",
    "#print the product price after removing the discount\n",
    "_product=int(input('product price'))\n",
    "if _product>1000:\n",
    "    print('the price of the product is {}'.format(_product*0.8))\n",
    "else:\n",
    "    print('the price of the product is {}'.format(_product*0.7))\n",
    "    "
   ]
  },
  {
   "cell_type": "code",
   "execution_count": 48,
   "id": "1497250f",
   "metadata": {},
   "outputs": [
    {
     "data": {
      "text/plain": [
       "300"
      ]
     },
     "execution_count": 48,
     "metadata": {},
     "output_type": "execute_result"
    }
   ],
   "source": [
    "int((20/100)*1500)"
   ]
  },
  {
   "cell_type": "code",
   "execution_count": 51,
   "id": "836a7e39",
   "metadata": {},
   "outputs": [
    {
     "data": {
      "text/plain": [
       "3.0"
      ]
     },
     "execution_count": 51,
     "metadata": {},
     "output_type": "execute_result"
    }
   ],
   "source": [
    "(30/100)*10"
   ]
  },
  {
   "cell_type": "code",
   "execution_count": 53,
   "id": "5eb6effb",
   "metadata": {},
   "outputs": [
    {
     "name": "stdout",
     "output_type": "stream",
     "text": [
      "product price2000\n",
      "the price of the product is 1600.0\n"
     ]
    }
   ],
   "source": [
    "_product=int(input('product price'))\n",
    "if _product>1000:\n",
    "    print(f'the price of the product is {_product*0.8}')\n",
    "else:\n",
    "    print(f'the price of the product is {_product*0.7}')"
   ]
  },
  {
   "cell_type": "markdown",
   "id": "a9289c74",
   "metadata": {},
   "source": []
  },
  {
   "cell_type": "code",
   "execution_count": 55,
   "id": "193daf12",
   "metadata": {},
   "outputs": [
    {
     "data": {
      "text/plain": [
       "400.0"
      ]
     },
     "execution_count": 55,
     "metadata": {},
     "output_type": "execute_result"
    }
   ],
   "source": [
    "(20/100)*2000"
   ]
  },
  {
   "cell_type": "code",
   "execution_count": 59,
   "id": "e496e7ed",
   "metadata": {},
   "outputs": [
    {
     "name": "stdout",
     "output_type": "stream",
     "text": [
      "price of product5000\n",
      "the price of the product is 4000.0\n"
     ]
    }
   ],
   "source": [
    "#mall- input the product price\n",
    "#product>3000Rs 20%off\n",
    "#print the product price after removing the discount\n",
    "#product>=2000Rs and <=3000Rs 30%off\n",
    "#print the product price after removing the discount\n",
    "#product<=1000Rs and <=2000Rs 40%off\n",
    "#print the product price after removing the discount\n",
    "price=int(input('price of product'))\n",
    "if price>3000:\n",
    "    print('the price of the product is {}'.format(price*0.8))\n",
    "elif price>=2000 and price<=3000:\n",
    "    print('the price of the product is {}'.format(price*0.7))\n",
    "else:\n",
    "    print('the price of the product is {}'.format(price*0.6))\n"
   ]
  },
  {
   "cell_type": "code",
   "execution_count": 61,
   "id": "5e063bd1",
   "metadata": {},
   "outputs": [
    {
     "name": "stdout",
     "output_type": "stream",
     "text": [
      "price of product55\n",
      "Lets drink tea\n"
     ]
    }
   ],
   "source": [
    "#mall- input the product price\n",
    "#product>3000Rs 20%off\n",
    "#print the product price after removing the discount\n",
    "#product>=2000Rs and <=3000Rs 30%off\n",
    "#print the product price after removing the discount\n",
    "#product>=100Rs and <=2000Rs 40%off\n",
    "#print the product price after removing the discount\n",
    "price=int(input('price of product'))\n",
    "if price>3000:\n",
    "    print('the price of the product is {}'.format(price*0.8))\n",
    "elif price>=2000 and price<=3000:\n",
    "    print('the price of the product is {}'.format(price*0.7))\n",
    "elif price>=100 and price<=2000:\n",
    "    print('the price of the product is {}'.format(price*0.6))\n",
    "else:\n",
    "    print('Lets drink tea')\n"
   ]
  },
  {
   "cell_type": "markdown",
   "id": "6f0a595f",
   "metadata": {},
   "source": [
    "# Nested if>>\n",
    "## if inside if"
   ]
  },
  {
   "cell_type": "code",
   "execution_count": 63,
   "id": "6502a684",
   "metadata": {},
   "outputs": [
    {
     "name": "stdout",
     "output_type": "stream",
     "text": [
      "price of product2999\n",
      "the price of the product is 2099.2999999999997\n",
      "Congratulations you are eligible for gift\n"
     ]
    }
   ],
   "source": [
    "#mall- input the product price\n",
    "#product>3000Rs 20%off\n",
    "#print the product price after removing the discount\n",
    "#product>=2000Rs and <=3000Rs 30%off\n",
    "#print the product price after removing the discount\n",
    "#price==2999\n",
    "#product>=100Rs and <=2000Rs 40%off\n",
    "#print the product price after removing the discount\n",
    "price=int(input('price of product'))\n",
    "if price>3000:\n",
    "    print('the price of the product is {}'.format(price*0.8))\n",
    "elif price>=2000 and price<=3000:\n",
    "    print('the price of the product is {}'.format(price*0.7))\n",
    "if price==2999:\n",
    "    print('Congratulations you are eligible for gift')\n",
    "elif price>=100 and price<=2000:\n",
    "    print('the price of the product is {}'.format(price*0.6))\n",
    "else:\n",
    "    print('Lets drink tea')"
   ]
  },
  {
   "cell_type": "code",
   "execution_count": 64,
   "id": "2ffc16f1",
   "metadata": {},
   "outputs": [
    {
     "data": {
      "text/plain": [
       "True"
      ]
     },
     "execution_count": 64,
     "metadata": {},
     "output_type": "execute_result"
    }
   ],
   "source": [
    "#Comparision operator\n",
    "True==True"
   ]
  },
  {
   "cell_type": "code",
   "execution_count": 66,
   "id": "c68a0615",
   "metadata": {},
   "outputs": [
    {
     "name": "stdout",
     "output_type": "stream",
     "text": [
      "price of product4000\n",
      "Congratulations you get a Goa trip\n",
      "the price of the product is 3200.0\n",
      "Lets drink tea\n"
     ]
    }
   ],
   "source": [
    "#mall- input the product price\n",
    "#product>3000Rs 20%off\n",
    "#print the product price after removing the discount\n",
    "#product>=2000Rs and <=3000Rs 30%off\n",
    "#print the product price after removing the discount\n",
    "#price==2999\n",
    "#product>=100Rs and <=2000Rs 40%off\n",
    "#print the product price after removing the discount\n",
    "price=int(input('price of product'))\n",
    "if price>3000:\n",
    "    if price==4000:\n",
    "        print('Congratulations you get a Goa trip')\n",
    "    print('the price of the product is {}'.format(price*0.8))\n",
    "elif price>=2000 and price<=3000:\n",
    "    print('the price of the product is {}'.format(price*0.7))\n",
    "if price==2999:\n",
    "    print('Congratulations you are eligible for gift')\n",
    "elif price>=100 and price<=2000:\n",
    "    print('the price of the product is {}'.format(price*0.6))\n",
    "else:\n",
    "    print('Lets drink tea')"
   ]
  },
  {
   "cell_type": "code",
   "execution_count": 67,
   "id": "4bec7f04",
   "metadata": {},
   "outputs": [
    {
     "name": "stdout",
     "output_type": "stream",
     "text": [
      "Enter the number1000\n",
      "go home\n"
     ]
    }
   ],
   "source": [
    "#Single Statement Suites\n",
    "val=int(input('Enter the number'))\n",
    "if val<=999:print('Value is less than equal to 999')\n",
    "else:\n",
    "    print('go home')"
   ]
  },
  {
   "cell_type": "code",
   "execution_count": 68,
   "id": "63b68212",
   "metadata": {},
   "outputs": [
    {
     "name": "stdout",
     "output_type": "stream",
     "text": [
      "Enter the number786\n",
      "Value is less than equal to 999\n"
     ]
    }
   ],
   "source": [
    "val=int(input('Enter the number'))\n",
    "if val<=999:print('Value is less than equal to 999')\n",
    "else:\n",
    "    print('go home')"
   ]
  },
  {
   "cell_type": "markdown",
   "id": "9d11d641",
   "metadata": {},
   "source": [
    "# Loop Statement\n",
    "### While loop\n",
    "### For loop\n",
    "### Nested loop\n",
    "### Loop control (break,continue,pass)"
   ]
  },
  {
   "cell_type": "code",
   "execution_count": 78,
   "id": "4a997a69",
   "metadata": {},
   "outputs": [
    {
     "ename": "SyntaxError",
     "evalue": "invalid syntax (<ipython-input-78-2134f0c6d4b9>, line 4)",
     "output_type": "error",
     "traceback": [
      "\u001b[1;36m  File \u001b[1;32m\"<ipython-input-78-2134f0c6d4b9>\"\u001b[1;36m, line \u001b[1;32m4\u001b[0m\n\u001b[1;33m    age=age+1 :\u001b[0m\n\u001b[1;37m              ^\u001b[0m\n\u001b[1;31mSyntaxError\u001b[0m\u001b[1;31m:\u001b[0m invalid syntax\n"
     ]
    }
   ],
   "source": [
    "#while loop>> Iterative purpose\n",
    "age=25\n",
    "while age<=40:\n",
    "    age=age+1 :\n",
    "    print(age)"
   ]
  },
  {
   "cell_type": "code",
   "execution_count": 79,
   "id": "d4e7263a",
   "metadata": {},
   "outputs": [
    {
     "name": "stdout",
     "output_type": "stream",
     "text": [
      "26\n",
      "27\n",
      "28\n",
      "29\n",
      "30\n",
      "31\n",
      "32\n",
      "33\n",
      "34\n",
      "35\n",
      "36\n",
      "37\n",
      "38\n",
      "39\n",
      "40\n",
      "41\n"
     ]
    }
   ],
   "source": [
    "joining_age=25\n",
    "while joining_age<=40:\n",
    "    joining_age=joining_age +1\n",
    "    print(joining_age)"
   ]
  },
  {
   "cell_type": "code",
   "execution_count": 80,
   "id": "f4cc468c",
   "metadata": {},
   "outputs": [
    {
     "name": "stdout",
     "output_type": "stream",
     "text": [
      "26\n",
      "27\n",
      "28\n",
      "29\n",
      "30\n",
      "31\n",
      "32\n",
      "33\n",
      "34\n",
      "35\n",
      "36\n",
      "37\n",
      "38\n",
      "39\n",
      "40\n",
      "41\n",
      "Its time for upgradation\n"
     ]
    }
   ],
   "source": [
    "#while loop >>While-Else condition\n",
    "joining_age=25\n",
    "while joining_age<=40:\n",
    "    joining_age=joining_age +1\n",
    "    print(joining_age)\n",
    "else:\n",
    "    print('Its time for upgradation')"
   ]
  },
  {
   "cell_type": "markdown",
   "id": "6ba12664",
   "metadata": {},
   "source": [
    "# Doubt"
   ]
  },
  {
   "cell_type": "code",
   "execution_count": 104,
   "id": "68ff3003",
   "metadata": {},
   "outputs": [
    {
     "ename": "SyntaxError",
     "evalue": "invalid syntax (<ipython-input-104-84b2dbe4e5cc>, line 3)",
     "output_type": "error",
     "traceback": [
      "\u001b[1;36m  File \u001b[1;32m\"<ipython-input-104-84b2dbe4e5cc>\"\u001b[1;36m, line \u001b[1;32m3\u001b[0m\n\u001b[1;33m    while  amount=0:\u001b[0m\n\u001b[1;37m                 ^\u001b[0m\n\u001b[1;31mSyntaxError\u001b[0m\u001b[1;31m:\u001b[0m invalid syntax\n"
     ]
    }
   ],
   "source": [
    "#ATM machine with 1000Rs\n",
    "amount=1000\n",
    "while  amount=0:\n",
    "    amount=amount-100\n",
    "    print(amount)\n",
    "else:\n",
    "    print('put more money bank people')"
   ]
  },
  {
   "cell_type": "markdown",
   "id": "a4bec4ea",
   "metadata": {},
   "source": [
    "# For Loop"
   ]
  },
  {
   "cell_type": "code",
   "execution_count": 105,
   "id": "b8b419ac",
   "metadata": {},
   "outputs": [
    {
     "data": {
      "text/plain": [
       "['sanjay', 1, 2, 3, 4, 'mango', 'banana']"
      ]
     },
     "execution_count": 105,
     "metadata": {},
     "output_type": "execute_result"
    }
   ],
   "source": [
    "#for loop >> iterating/traversing through the collection\n",
    "lst=['sanjay',1,2,3,4,'mango','banana']\n",
    "lst"
   ]
  },
  {
   "cell_type": "code",
   "execution_count": 106,
   "id": "b2259f11",
   "metadata": {},
   "outputs": [
    {
     "data": {
      "text/plain": [
       "list"
      ]
     },
     "execution_count": 106,
     "metadata": {},
     "output_type": "execute_result"
    }
   ],
   "source": [
    "type(lst)"
   ]
  },
  {
   "cell_type": "code",
   "execution_count": 107,
   "id": "d37ac0e8",
   "metadata": {},
   "outputs": [
    {
     "name": "stdout",
     "output_type": "stream",
     "text": [
      "sanjay\n",
      "1\n",
      "2\n",
      "3\n",
      "4\n",
      "mango\n",
      "banana\n"
     ]
    }
   ],
   "source": [
    "for x in lst:\n",
    "    print(x)"
   ]
  },
  {
   "cell_type": "code",
   "execution_count": 108,
   "id": "4b3f6570",
   "metadata": {},
   "outputs": [
    {
     "data": {
      "text/plain": [
       "['mango', 'banana', 'apple', 'grapes', 'kiwi']"
      ]
     },
     "execution_count": 108,
     "metadata": {},
     "output_type": "execute_result"
    }
   ],
   "source": [
    "fruits_lst=['mango','banana','apple','grapes','kiwi']\n",
    "fruits_lst"
   ]
  },
  {
   "cell_type": "code",
   "execution_count": 109,
   "id": "9a0c6783",
   "metadata": {},
   "outputs": [
    {
     "name": "stdout",
     "output_type": "stream",
     "text": [
      "mango\n",
      "banana\n",
      "apple\n",
      "grapes\n",
      "kiwi\n"
     ]
    }
   ],
   "source": [
    "for y in fruits_lst:\n",
    "    print(y)"
   ]
  },
  {
   "cell_type": "code",
   "execution_count": 111,
   "id": "fdd6e376",
   "metadata": {},
   "outputs": [],
   "source": [
    "fruits_lst=['mango','banana','apple','grapes','kiwi']\n"
   ]
  },
  {
   "cell_type": "code",
   "execution_count": 113,
   "id": "abf514eb",
   "metadata": {},
   "outputs": [
    {
     "name": "stdout",
     "output_type": "stream",
     "text": [
      "mango\n",
      "cherry is a fruit\n",
      "banana\n",
      "apple\n",
      "grapes\n",
      "kiwi\n"
     ]
    }
   ],
   "source": [
    "for a in fruits_lst:\n",
    "    print(a)\n",
    "    if a=='mango':\n",
    "        print('cherry is a fruit')"
   ]
  },
  {
   "cell_type": "code",
   "execution_count": 114,
   "id": "d9f73353",
   "metadata": {},
   "outputs": [
    {
     "name": "stdout",
     "output_type": "stream",
     "text": [
      "m\n",
      "a\n",
      "n\n",
      "g\n",
      "o\n"
     ]
    }
   ],
   "source": [
    "fruits=\"mango\"\n",
    "for x in fruits:\n",
    "    print(x)"
   ]
  },
  {
   "cell_type": "code",
   "execution_count": 115,
   "id": "98223a2e",
   "metadata": {},
   "outputs": [
    {
     "data": {
      "text/plain": [
       "'n'"
      ]
     },
     "execution_count": 115,
     "metadata": {},
     "output_type": "execute_result"
    }
   ],
   "source": [
    "fruits[2]"
   ]
  },
  {
   "cell_type": "markdown",
   "id": "1d2cc339",
   "metadata": {},
   "source": [
    "# Range"
   ]
  },
  {
   "cell_type": "code",
   "execution_count": 116,
   "id": "9c3c4fe3",
   "metadata": {},
   "outputs": [
    {
     "name": "stdout",
     "output_type": "stream",
     "text": [
      "1\n",
      "2\n",
      "3\n",
      "4\n",
      "5\n"
     ]
    }
   ],
   "source": [
    "#Range\n",
    "for i in range(1,6):\n",
    "    print(i)"
   ]
  },
  {
   "cell_type": "code",
   "execution_count": 117,
   "id": "6fb5aa3b",
   "metadata": {},
   "outputs": [
    {
     "name": "stdout",
     "output_type": "stream",
     "text": [
      "2\n",
      "5\n",
      "8\n"
     ]
    }
   ],
   "source": [
    "#here third one is step size\n",
    "for i in range(2,10,3):\n",
    "    print(i)"
   ]
  },
  {
   "cell_type": "markdown",
   "id": "7116c585",
   "metadata": {},
   "source": [
    "# NESTED LOOPS"
   ]
  },
  {
   "cell_type": "code",
   "execution_count": 118,
   "id": "31d6dd22",
   "metadata": {},
   "outputs": [
    {
     "name": "stdout",
     "output_type": "stream",
     "text": [
      "****************************"
     ]
    }
   ],
   "source": [
    "n=7\n",
    "for i in range(0,n):\n",
    "    for j in range(0,i+1):\n",
    "        print('*',end='')"
   ]
  },
  {
   "cell_type": "code",
   "execution_count": 119,
   "id": "b1313d2c",
   "metadata": {},
   "outputs": [
    {
     "name": "stdout",
     "output_type": "stream",
     "text": [
      "*\n",
      "*\n",
      "*\n",
      "*\n",
      "*\n",
      "*\n",
      "*\n",
      "*\n",
      "*\n",
      "*\n",
      "*\n",
      "*\n",
      "*\n",
      "*\n",
      "*\n",
      "*\n",
      "*\n",
      "*\n",
      "*\n",
      "*\n",
      "*\n",
      "*\n",
      "*\n",
      "*\n",
      "*\n",
      "*\n",
      "*\n",
      "*\n"
     ]
    }
   ],
   "source": [
    "#In order to make this better\n",
    "n=7\n",
    "for i in range(0,n):\n",
    "    for j in range(0,i+1):\n",
    "        print('*',end='\\n')"
   ]
  },
  {
   "cell_type": "code",
   "execution_count": 124,
   "id": "1baac21f",
   "metadata": {},
   "outputs": [
    {
     "name": "stdout",
     "output_type": "stream",
     "text": [
      "*\r\n",
      "**\r\n",
      "***\r\n",
      "****\r\n",
      "*****\r\n",
      "******\r\n",
      "*******\r\n"
     ]
    }
   ],
   "source": [
    "# \\r >> means it will go to the next line\n",
    "n=7\n",
    "for i in range(0,n):\n",
    "    for j in range(0,i+1):\n",
    "        print('*',end='')\n",
    "    print('\\r')"
   ]
  },
  {
   "cell_type": "code",
   "execution_count": 125,
   "id": "882e0257",
   "metadata": {},
   "outputs": [
    {
     "name": "stdout",
     "output_type": "stream",
     "text": [
      "*\n",
      "\n",
      "**\n",
      "\n",
      "***\n",
      "\n",
      "****\n",
      "\n",
      "*****\n",
      "\n",
      "******\n",
      "\n",
      "*******\n",
      "\n"
     ]
    }
   ],
   "source": [
    "# \\n >> is for new line\n",
    "n=7\n",
    "for i in range(0,n):\n",
    "    for j in range(0,i+1):\n",
    "        print('*',end='')\n",
    "    print('\\n') "
   ]
  },
  {
   "cell_type": "markdown",
   "id": "db8d8ef8",
   "metadata": {},
   "source": [
    "# Loop Control- Break & Continue"
   ]
  },
  {
   "cell_type": "code",
   "execution_count": 129,
   "id": "b78483a0",
   "metadata": {},
   "outputs": [],
   "source": [
    "fruits_list=['apple','cherry','mango','banana','strawberry']"
   ]
  },
  {
   "cell_type": "code",
   "execution_count": 130,
   "id": "92a5adda",
   "metadata": {},
   "outputs": [
    {
     "name": "stdout",
     "output_type": "stream",
     "text": [
      "apple is tasty\n",
      "apple\n"
     ]
    }
   ],
   "source": [
    "for i in fruits_list:\n",
    "    if i=='apple':\n",
    "        print('apple is tasty')\n",
    "        print(i)"
   ]
  },
  {
   "cell_type": "code",
   "execution_count": 136,
   "id": "230b5343",
   "metadata": {},
   "outputs": [
    {
     "name": "stdout",
     "output_type": "stream",
     "text": [
      "apple\n",
      "cherry\n",
      "take your banana back\n"
     ]
    }
   ],
   "source": [
    "#now if I use>> Break\n",
    "for i in fruits_list:\n",
    "    if i=='mango':\n",
    "        print('take your banana back')\n",
    "        break\n",
    "    print(i)"
   ]
  },
  {
   "cell_type": "code",
   "execution_count": 134,
   "id": "e34db55c",
   "metadata": {},
   "outputs": [
    {
     "name": "stdout",
     "output_type": "stream",
     "text": [
      "apple\n",
      "cherry\n",
      "I love mango\n",
      "mango\n",
      "banana\n",
      "strawberry\n"
     ]
    }
   ],
   "source": [
    "#now if I use>>pass\n",
    "for i in fruits_list:\n",
    "    if i=='mango':\n",
    "        print('I love mango')\n",
    "        pass\n",
    "    print(i)"
   ]
  },
  {
   "cell_type": "code",
   "execution_count": 135,
   "id": "63aa5d30",
   "metadata": {},
   "outputs": [
    {
     "name": "stdout",
     "output_type": "stream",
     "text": [
      "apple\n",
      "cherry\n",
      "I love mango\n",
      "banana\n",
      "strawberry\n"
     ]
    }
   ],
   "source": [
    "#now if we use>>continue\n",
    "for i in fruits_list:\n",
    "    if i=='mango':\n",
    "        print('I love mango')\n",
    "        continue\n",
    "    print(i)"
   ]
  },
  {
   "cell_type": "code",
   "execution_count": null,
   "id": "5f0ba0ab",
   "metadata": {},
   "outputs": [],
   "source": []
  }
 ],
 "metadata": {
  "kernelspec": {
   "display_name": "Python 3",
   "language": "python",
   "name": "python3"
  },
  "language_info": {
   "codemirror_mode": {
    "name": "ipython",
    "version": 3
   },
   "file_extension": ".py",
   "mimetype": "text/x-python",
   "name": "python",
   "nbconvert_exporter": "python",
   "pygments_lexer": "ipython3",
   "version": "3.8.8"
  }
 },
 "nbformat": 4,
 "nbformat_minor": 5
}
